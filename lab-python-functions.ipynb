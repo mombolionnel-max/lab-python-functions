{
 "cells": [
  {
   "cell_type": "code",
   "execution_count": 1,
   "id": "f8a58a14-62b1-469a-90c3-daf1e6384233",
   "metadata": {},
   "outputs": [],
   "source": [
    "products = [\"t-shirt\", \"mug\", \"hat\", \"book\", \"keychain\"]\n",
    "\n"
   ]
  },
  {
   "cell_type": "code",
   "execution_count": null,
   "id": "077c47cf-d0ee-440d-a66f-5f689fec8b8d",
   "metadata": {},
   "outputs": [
    {
     "name": "stdout",
     "output_type": "stream",
     "text": [
      "Enter the quantity of each product:\n"
     ]
    }
   ],
   "source": [
    "def initialize_inventory(products):\n",
    "    inventory = {}\n",
    "    print(\"Enter the quantity of each product:\")\n",
    "    for product in products:\n",
    "        quantity = int(input(f\"Enter the quantity of {product}: \"))\n",
    "        inventory[product] = quantity\n",
    "\n",
    "    return inventory\n",
    "\n",
    "def get_customer_orders():\n",
    "    customer_orders = set()\n",
    "    while True:\n",
    "        item = input(f\"Enter product you want to order ['t-shirt', 'mug', 'hat', 'book', 'keychain']: \")\n",
    "        while item not in products:\n",
    "            item = input(\"❌Invalid product.Please choose from this list ['t-shirt', 'mug', 'hat', 'book', 'keychain']:\")\n",
    "\n",
    "        customer_orders.add(item)\n",
    "\n",
    "        another = input(\"Do you want to order another product? (yes/no): \")\n",
    "        if another != \"yes\":\n",
    "            break\n",
    "\n",
    "    return customer_orders\n",
    "\n",
    "def update_inventory(inventory, customer_orders):\n",
    "    for item in customer_orders:\n",
    "        if inventory[item] > 0:\n",
    "            inventory[item] -= 1\n",
    "        else:\n",
    "            print(f\"The product {item} is not available in the inventory.\")\n",
    "\n",
    "    return inventory\n",
    "\n",
    "def calculate_order_statistics(customer_orders, products):\n",
    "    total_products_ordered = len(customer_orders)\n",
    "    percentage_ordered = total_products_ordered / len(products) * 100\n",
    "    order_status = (total_products_ordered, percentage_ordered)\n",
    "    # return total_products_ordered, percentage_ordered\n",
    "    return order_status\n",
    "\n",
    "def print_order_statistics(order_statistics):\n",
    "    print(\"Order Statistics:\")\n",
    "    print(\"Total Products Ordered:\", order_statistics[0])\n",
    "    print(\"Percentage of Products Ordered:\", order_statistics[1], \"%\")\n",
    "\n",
    "def print_updated_inventory(inventory):\n",
    "    print(\"Inventory after order:\")\n",
    "    for item in inventory:\n",
    "        print(item, inventory[item])\n",
    "\n",
    "\n",
    "inventory = initialize_inventory(products)\n",
    "customer_orders = get_customer_orders()\n",
    "inventory = update_inventory(inventory, customer_orders)\n",
    "order_statistics = calculate_order_statistics(customer_orders, products)\n",
    "print_order_statistics(order_statistics)\n",
    "print_updated_inventory(inventory)\n"
   ]
  },
  {
   "cell_type": "code",
   "execution_count": null,
   "id": "4f4c1505-d580-4846-a1cf-45e9e10b013b",
   "metadata": {},
   "outputs": [],
   "source": []
  }
 ],
 "metadata": {
  "kernelspec": {
   "display_name": "Python [conda env:base] *",
   "language": "python",
   "name": "conda-base-py"
  },
  "language_info": {
   "codemirror_mode": {
    "name": "ipython",
    "version": 3
   },
   "file_extension": ".py",
   "mimetype": "text/x-python",
   "name": "python",
   "nbconvert_exporter": "python",
   "pygments_lexer": "ipython3",
   "version": "3.13.5"
  }
 },
 "nbformat": 4,
 "nbformat_minor": 5
}
